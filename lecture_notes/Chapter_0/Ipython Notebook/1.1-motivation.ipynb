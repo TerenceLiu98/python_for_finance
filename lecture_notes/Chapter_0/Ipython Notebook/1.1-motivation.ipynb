{
 "cells": [
  {
   "cell_type": "markdown",
   "metadata": {},
   "source": [
    "# Python Briefing"
   ]
  },
  {
   "cell_type": "markdown",
   "metadata": {},
   "source": [
    "**Dr. Pengfei Zhao**\n",
    "\n",
    "Finance Mathematics Program, \n",
    "\n",
    "BNU-HKBU United International College"
   ]
  },
  {
   "cell_type": "markdown",
   "metadata": {},
   "source": [
    "## 1. Why Learn Python?"
   ]
  },
  {
   "cell_type": "markdown",
   "metadata": {},
   "source": [
    " <img src=\"../Figures/python1600.png\" width = \"180\" height = \"150\" alt=\"图片名称\" align=center />"
   ]
  },
  {
   "cell_type": "markdown",
   "metadata": {},
   "source": [
    "### A popular general programming language"
   ]
  },
  {
   "cell_type": "markdown",
   "metadata": {},
   "source": [
    "* Many famous web applications are written in Python, e.g."
   ]
  },
  {
   "cell_type": "markdown",
   "metadata": {},
   "source": [
    "Youtube              |  豆瓣 |  Dropbox |  Quora |  Instagram |  BitTorrent  |  Spotify | others | \n",
    ":-------------------------:|:-------------------------:|:-------------------------:|:-------------------------:|:-------------------------: |:-------------------------:|:-------------------------:|:-------------------------:\n",
    "<img src=\"../Figures/new-youtube-logo.jpg\" width = \"100\" height = \"150\"/>  |  <img src=\"../Figures/Douban_logo.svg.png\" width = \"100\" height = \"150\"/>  |  <img src=\"../Figures/dropbox.png\" width = \"100\" height = \"150\"/> |  <img src=\"../Figures/quora.png\" width = \"100\" height = \"150\"/> |  <img src=\"../Figures/instagram-logo.png\" width = \"100\" height = \"150\"/>|  <img src=\"../Figures/bt.jpg\" width = \"100\" height = \"150\"/> |  <img src=\"../Figures/spotify.png\" width = \"100\" height = \"150\"/>|  <img src=\"../Figures/Ellipsis.jpg\" width = \"100\" height = \"150\"/>"
   ]
  },
  {
   "cell_type": "markdown",
   "metadata": {},
   "source": [
    "* Greatly needed in Industry and job market 2018([source](https://www.codingdojo.com/blog/7-most-in-demand-programming-languages-of-2018/))"
   ]
  },
  {
   "cell_type": "markdown",
   "metadata": {},
   "source": [
    " <img src=\"../Figures/jobs2018.png\" width = \"380\" height = \"150\" alt=\"图片名称\" align=center />"
   ]
  },
  {
   "cell_type": "markdown",
   "metadata": {},
   "source": [
    "### TIOBE Index for September 2018. ([source](https://www.tiobe.com/tiobe-index/))."
   ]
  },
  {
   "cell_type": "markdown",
   "metadata": {},
   "source": [
    " <img src=\"../Figures/language2018.png\" width = \"580\" height = \"350\" alt=\"图片名称\" align=center />"
   ]
  },
  {
   "cell_type": "markdown",
   "metadata": {},
   "source": [
    "### Relating to Finance"
   ]
  },
  {
   "cell_type": "markdown",
   "metadata": {},
   "source": [
    "* **Most popular language for data science:** see [here](https://www.quora.com/Why-is-Python-a-language-of-choice-for-data-scientists) for detailed explanation. Finance industry has huge amount of data.\n",
    "\n",
    "    * *Numpy:* fundamental package for numerical computation.\n",
    "    * *Matplotlib:* a mature and popular plotting package\n",
    "    * *pandas:* organize data\n",
    "    * *Ipython:* a rich interactive interface\n",
    "    * *scikit-learn: various statistics, machine learning models\n",
    "\n",
    "* **Quick Prototyping**\n",
    "    * In my cases, investment opportunity is transient. Python is good at quick implementations of models.\n",
    "\n",
    "* **Quantitative Trading platforms**\n",
    "    * Abroad: [Quantopian](https://www.quantopian.com/)\n",
    "    * China: [聚宽](https://www.joinquant.com/), [优矿](https://uqer.io/home/), [米筐](https://www.ricequant.com/)\n",
    "\n",
    "\n",
    "\n"
   ]
  },
  {
   "cell_type": "markdown",
   "metadata": {},
   "source": [
    " <img src=\"../Figures/joinquant.png\" width = \"580\" height = \"250\" alt=\"图片名称\" align=center />"
   ]
  },
  {
   "cell_type": "markdown",
   "metadata": {},
   "source": [
    "## 2. Python Itself"
   ]
  },
  {
   "cell_type": "markdown",
   "metadata": {},
   "source": [
    "### 2.1 History"
   ]
  },
  {
   "cell_type": "markdown",
   "metadata": {},
   "source": [
    "* Created in 1991 by Guido van Rossum (now at Google). Named for [Monty Python](https://en.wikipedia.org/wiki/Monty_Python). Not for  those dangerous reptiles.\n",
    "\n",
    "\n",
    " <img src=\"../Figures/monty.png\" width = \"180\" height = \"150\" alt=\"图片名称\" align=center />\n"
   ]
  },
  {
   "cell_type": "markdown",
   "metadata": {},
   "source": [
    "### 2.2 Python Features"
   ]
  },
  {
   "cell_type": "markdown",
   "metadata": {},
   "source": [
    "* **Simple and easy to learn**"
   ]
  },
  {
   "cell_type": "markdown",
   "metadata": {},
   "source": [
    "HelloWorld.java"
   ]
  },
  {
   "cell_type": "markdown",
   "metadata": {},
   "source": [
    " <img src=\"../Figures/java.png\" width = \"280\" height = \"250\" alt=\"图片名称\" align=center />"
   ]
  },
  {
   "cell_type": "markdown",
   "metadata": {},
   "source": [
    "HelloWorld.cpp"
   ]
  },
  {
   "cell_type": "markdown",
   "metadata": {},
   "source": [
    " <img src=\"../Figures/cplusplus.png\" width = \"280\" height = \"250\" alt=\"图片名称\" align=center />"
   ]
  },
  {
   "cell_type": "markdown",
   "metadata": {},
   "source": [
    "HelloWorld.py"
   ]
  },
  {
   "cell_type": "markdown",
   "metadata": {},
   "source": [
    " <img src=\"../Figures/py.png\" width = \"280\" height = \"250\" alt=\"图片名称\" align=center />"
   ]
  },
  {
   "cell_type": "markdown",
   "metadata": {},
   "source": [
    "If you used Java or C++ before, you will feel you are flying when you try Python."
   ]
  },
  {
   "cell_type": "markdown",
   "metadata": {},
   "source": [
    "* **Interpreted Languages**\n",
    "    * Not compiled like C++\n",
    "    * Code is written and then directly executed by an `interpreter`.\n",
    "    * Type commands into interpreter and see immediate results.\n",
    "    \n",
    "\n"
   ]
  },
  {
   "cell_type": "markdown",
   "metadata": {},
   "source": [
    " <img src=\"../Figures/iterprete.png\" width = \"380\" height = \"350\" alt=\"图片名称\" align=center />"
   ]
  },
  {
   "cell_type": "markdown",
   "metadata": {},
   "source": [
    "\n",
    "* **General programming language for multiple purpose.** (compared to `MATLAB` and `R`)\n",
    "* **Free and Open Source.**\n",
    "    * You can freely distribute copies of this software, read it‘s source code, make changes to it, use pieces of it in new free programs. Compare to Matlab.\n",
    "* **High-level Language**\n",
    "    * No need to bother about the low-level details such as managing the memory used by your program, etc.\n",
    "* **Cross-Platform**\n",
    "    * You can use Python on Linux, Windows, Unix, Mac OS…\n",
    "* **Object Oriented**\n",
    "    * Python supports procedure-oriented programming as well as object-oriented programming. In procedure-oriented languages, the program is built around \tprocedures or functions which are nothing but reusable pieces of programs. \tIn object-oriented languages, the program is built around objects which combine data and functionality. \n",
    "* **Extensible**\n",
    "    * If you need a critical piece of code to run very fast or want to have some piece \tof algorithm not to be open, you can code that part of your program in C or C++ and then use them from your Python program.\n",
    "* **Extensive Libraries**\n",
    "    * Due to its open-source nature, Python is a vibrant community having a great number of warm-hearted contributors. There are many great libraries. You can know more from [here](http://noeticforce.com/best-python-libraries).\n"
   ]
  },
  {
   "cell_type": "markdown",
   "metadata": {},
   "source": [
    "### 2.3 Installing Python"
   ]
  },
  {
   "cell_type": "markdown",
   "metadata": {},
   "source": [
    "* For Windows:\n",
    "    * Download Python from http://www.python.org\n",
    "    * Install\n",
    "* For Mac OS:\n",
    "    * Python is already installed.\n",
    "    * Open terminal and just type \"python\"\n",
    "* For Linux:\n",
    "    * Chances that Python is already installed.\n",
    "    * If not installed, you can use `apt-get` command for the installation.\n"
   ]
  },
  {
   "cell_type": "markdown",
   "metadata": {},
   "source": [
    "### 2.4 Versions of Python"
   ]
  },
  {
   "cell_type": "markdown",
   "metadata": {},
   "source": [
    "* We are going to use Python 3.x in this course.\n"
   ]
  },
  {
   "cell_type": "markdown",
   "metadata": {},
   "source": [
    "## 3. Python Editor"
   ]
  },
  {
   "cell_type": "markdown",
   "metadata": {},
   "source": [
    "* You need to write your program in an editor. Any text editor is fine, writing Python code is just like writing a txt file, as long as you installed Python which can interpret your code.\n",
    "* But different editors' have their own characters. You can choose one you like best."
   ]
  },
  {
   "cell_type": "markdown",
   "metadata": {},
   "source": [
    "### 3.1 Shell"
   ]
  },
  {
   "cell_type": "markdown",
   "metadata": {},
   "source": [
    "* Once you open the terminal and type `Python`, you can code.\n",
    " <img src=\"../Figures/editor-shell.png\" width = \"280\" height = \"250\" alt=\"图片名称\" align=center />"
   ]
  },
  {
   "cell_type": "markdown",
   "metadata": {},
   "source": [
    "**Pros:** Convenient to open, quick test of python syntax. \n",
    "\n",
    "**Cons:** Not appropriate to write long functions.\n"
   ]
  },
  {
   "cell_type": "markdown",
   "metadata": {},
   "source": [
    "### 3.2 Text Editor"
   ]
  },
  {
   "cell_type": "markdown",
   "metadata": {},
   "source": [
    "* Although it is convenient to use `interpreter` to write the program, but all the codes will be gone once you close the terminal. In many cases you may want save your codes into a file for later use.\n",
    "* Any text editor is fine.\n",
    "* Write the python code in any text editor, save as `***.py`\n",
    "* `>>> python ***.py`"
   ]
  },
  {
   "cell_type": "markdown",
   "metadata": {},
   "source": [
    " <img src=\"../Figures/editor1.png\" width = \"280\" height = \"250\" alt=\"图片名称\" align=center />"
   ]
  },
  {
   "cell_type": "markdown",
   "metadata": {},
   "source": [
    " <img src=\"../Figures/editor2.png\" width = \"280\" height = \"250\" alt=\"图片名称\" align=center />"
   ]
  },
  {
   "cell_type": "markdown",
   "metadata": {},
   "source": [
    "You may configure the text editor background, syntax highlighting, etc"
   ]
  },
  {
   "cell_type": "markdown",
   "metadata": {},
   "source": [
    "### 3.3 Jupyter Notebook"
   ]
  },
  {
   "cell_type": "markdown",
   "metadata": {},
   "source": [
    "* You can see more introduction [here](http://jupyter.org/)"
   ]
  },
  {
   "cell_type": "markdown",
   "metadata": {},
   "source": [
    " <img src=\"../Figures/nb1.png\" width = \"380\" height = \"350\" alt=\"图片名称\" align=center />"
   ]
  },
  {
   "cell_type": "markdown",
   "metadata": {},
   "source": [
    " <img src=\"../Figures/nb2.png\" width = \"380\" height = \"350\" alt=\"图片名称\" align=center />"
   ]
  },
  {
   "cell_type": "markdown",
   "metadata": {},
   "source": [
    "* Highly interactive, database access, plotting, Latex, HTML, etc."
   ]
  },
  {
   "cell_type": "markdown",
   "metadata": {},
   "source": [
    "## 4. Excercise"
   ]
  },
  {
   "cell_type": "markdown",
   "metadata": {},
   "source": [
    "$\\int_a^b (x^2+y^2)x dxdy$"
   ]
  },
  {
   "cell_type": "markdown",
   "metadata": {},
   "source": [
    "#### Test"
   ]
  },
  {
   "cell_type": "code",
   "execution_count": 2,
   "metadata": {},
   "outputs": [
    {
     "name": "stdout",
     "output_type": "stream",
     "text": [
      "hello world\n"
     ]
    }
   ],
   "source": [
    "print ('hello world')"
   ]
  },
  {
   "cell_type": "code",
   "execution_count": 6,
   "metadata": {},
   "outputs": [
    {
     "name": "stdout",
     "output_type": "stream",
     "text": [
      "See my 'Hello World' \n"
     ]
    }
   ],
   "source": [
    "print (\"See my 'Hello World' \")\n"
   ]
  },
  {
   "cell_type": "code",
   "execution_count": 3,
   "metadata": {},
   "outputs": [
    {
     "name": "stdout",
     "output_type": "stream",
     "text": [
      "hello world\n"
     ]
    }
   ],
   "source": [
    "print ('hello world') # this is the comment"
   ]
  },
  {
   "cell_type": "code",
   "execution_count": 5,
   "metadata": {},
   "outputs": [
    {
     "name": "stdout",
     "output_type": "stream",
     "text": [
      "hello world\n"
     ]
    }
   ],
   "source": [
    "def hello():\n",
    "    print ('hello world')\n",
    "    \n",
    "hello()"
   ]
  },
  {
   "cell_type": "markdown",
   "metadata": {},
   "source": [
    "### Support visualization"
   ]
  },
  {
   "cell_type": "code",
   "execution_count": 4,
   "metadata": {},
   "outputs": [
    {
     "data": {
      "image/png": "[encoded data removed]",
      "text/plain": [
       "<matplotlib.figure.Figure at 0x7f5db8766f98>"
      ]
     },
     "metadata": {},
     "output_type": "display_data"
    }
   ],
   "source": [
    "import matplotlib.pyplot as plt\n",
    "import numpy as np\n",
    "\n",
    "x = np.arange(0, 2, 0.01)\n",
    "y = np.sin(2*np.pi*x)\n",
    "plt.plot(x,y)\n",
    "plt.title('Sin Function')\n",
    "plt.xlabel('x value')\n",
    "plt.ylabel('y value')\n",
    "plt.show()"
   ]
  },
  {
   "cell_type": "markdown",
   "metadata": {},
   "source": [
    "### Support Latex"
   ]
  },
  {
   "cell_type": "markdown",
   "metadata": {},
   "source": [
    "$\\int_a^b x(x^2+y^2)dxd$y"
   ]
  },
  {
   "cell_type": "code",
   "execution_count": 7,
   "metadata": {},
   "outputs": [
    {
     "data": {
      "text/html": [
       "<img src=\"http://history.nasa.gov/ap11ann/kippsphotos/5903.jpg\"/>"
      ],
      "text/plain": [
       "<IPython.core.display.Image object>"
      ]
     },
     "execution_count": 7,
     "metadata": {},
     "output_type": "execute_result"
    }
   ],
   "source": [
    "from IPython.display import Image\n",
    "Image(url='http://history.nasa.gov/ap11ann/kippsphotos/5903.jpg')"
   ]
  },
  {
   "cell_type": "markdown",
   "metadata": {
    "collapsed": true
   },
   "source": [
    "\n",
    "* This is a test"
   ]
  },
  {
   "cell_type": "code",
   "execution_count": null,
   "metadata": {
    "collapsed": true
   },
   "outputs": [],
   "source": []
  }
 ],
 "metadata": {
  "kernelspec": {
   "display_name": "uicquant",
   "language": "python",
   "name": "python3"
  },
  "language_info": {
   "codemirror_mode": {
    "name": "ipython",
    "version": 3
   },
   "file_extension": ".py",
   "mimetype": "text/x-python",
   "name": "python",
   "nbconvert_exporter": "python",
   "pygments_lexer": "ipython3",
   "version": "3.6.2"
  }
 },
 "nbformat": 4,
 "nbformat_minor": 2
}
